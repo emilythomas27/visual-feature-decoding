{
 "cells": [
  {
   "cell_type": "markdown",
   "id": "e829711e-cce9-465c-a246-38661390f9e9",
   "metadata": {},
   "source": [
    "From [naturalscenesdataset.org](https://naturalscenesdataset.org):\n",
    "```text\n",
    "The Natural Scenes Dataset (NSD) is a large-scale fMRI dataset conducted at ultra-high-field (7T) strength at the Center of Magnetic Resonance Research (CMRR) at the University of Minnesota. The dataset consists of whole-brain, high-resolution (1.8-mm isotropic, 1.6-s sampling rate) fMRI measurements of 8 healthy adult subjects while they viewed thousands of color natural scenes over the course of 30–40 scan sessions. While viewing these images, subjects were engaged in a continuous recognition task in which they reported whether they had seen each given image at any point in the experiment. These data constitute a massive benchmark dataset for computational models of visual representation and cognition, and can support a wide range of scientific inquiry.\n",
    "```\n"
   ]
  },
  {
   "cell_type": "code",
   "execution_count": 1,
   "id": "11930af4-c9bf-4a28-b9fc-bb49be5fa481",
   "metadata": {
    "tags": []
   },
   "outputs": [],
   "source": [
    "from cloudpathlib import S3Path, S3Client\n",
    "from pathlib import Path\n",
    "\n",
    "# Set up our cache path:\n",
    "cache_path = Path('/tmp/cache')\n",
    "if not cache_path.exists():\n",
    "    cache_path.mkdir()\n",
    "\n",
    "# Create the root S3Path for the NSD:\n",
    "nsd_base_path = S3Path(\n",
    "    's3://natural-scenes-dataset/',\n",
    "    client=S3Client(\n",
    "        no_sign_request=True,\n",
    "        local_cache_dir=cache_path))"
   ]
  },
  {
   "cell_type": "code",
   "execution_count": 2,
   "id": "26cf2fac-51d5-4dcf-a984-008c821d3a64",
   "metadata": {
    "tags": []
   },
   "outputs": [
    {
     "name": "stdout",
     "output_type": "stream",
     "text": [
      "Collecting pycocotools\n",
      "  Obtaining dependency information for pycocotools from https://files.pythonhosted.org/packages/ba/64/0451cf41a00fd5ac4501de4ea0e395b7d909e09d665e56890b5d3809ae26/pycocotools-2.0.7-cp310-cp310-manylinux_2_17_x86_64.manylinux2014_x86_64.whl.metadata\n",
      "  Using cached pycocotools-2.0.7-cp310-cp310-manylinux_2_17_x86_64.manylinux2014_x86_64.whl.metadata (1.1 kB)\n",
      "Requirement already satisfied: matplotlib>=2.1.0 in /srv/conda/envs/notebook/lib/python3.10/site-packages (from pycocotools) (3.4.3)\n",
      "Requirement already satisfied: numpy in /srv/conda/envs/notebook/lib/python3.10/site-packages (from pycocotools) (1.24.4)\n",
      "Requirement already satisfied: cycler>=0.10 in /srv/conda/envs/notebook/lib/python3.10/site-packages (from matplotlib>=2.1.0->pycocotools) (0.11.0)\n",
      "Requirement already satisfied: kiwisolver>=1.0.1 in /srv/conda/envs/notebook/lib/python3.10/site-packages (from matplotlib>=2.1.0->pycocotools) (1.4.4)\n",
      "Requirement already satisfied: pillow>=6.2.0 in /srv/conda/envs/notebook/lib/python3.10/site-packages (from matplotlib>=2.1.0->pycocotools) (9.5.0)\n",
      "Requirement already satisfied: pyparsing>=2.2.1 in /srv/conda/envs/notebook/lib/python3.10/site-packages (from matplotlib>=2.1.0->pycocotools) (3.0.9)\n",
      "Requirement already satisfied: python-dateutil>=2.7 in /srv/conda/envs/notebook/lib/python3.10/site-packages (from matplotlib>=2.1.0->pycocotools) (2.8.2)\n",
      "Requirement already satisfied: six>=1.5 in /srv/conda/envs/notebook/lib/python3.10/site-packages (from python-dateutil>=2.7->matplotlib>=2.1.0->pycocotools) (1.16.0)\n",
      "Using cached pycocotools-2.0.7-cp310-cp310-manylinux_2_17_x86_64.manylinux2014_x86_64.whl (426 kB)\n",
      "Installing collected packages: pycocotools\n",
      "Successfully installed pycocotools-2.0.7\n"
     ]
    }
   ],
   "source": [
    "import os\n",
    "import os.path as op\n",
    "import glob\n",
    "import nibabel as nib\n",
    "import numpy as np\n",
    "import pandas as pd\n",
    "import h5py\n",
    "\n",
    "import matplotlib.pyplot as plt\n",
    "import matplotlib.image as mpimg\n",
    "from nilearn import plotting\n",
    "\n",
    "import urllib.request, zipfile\n",
    "try:\n",
    "    from pycocotools.coco import COCO\n",
    "except ImportError as e:\n",
    "    !pip install pycocotools\n",
    "    from pycocotools.coco import COCO\n",
    "\n",
    "\n",
    "#from nsd_access import NSDAccess\n",
    "\n",
    "%matplotlib inline"
   ]
  },
  {
   "cell_type": "code",
   "execution_count": 3,
   "id": "a59797d5-6aad-40a6-a381-abfa03eba559",
   "metadata": {
    "tags": []
   },
   "outputs": [
    {
     "data": {
      "text/plain": [
       "[S3Path('s3://natural-scenes-dataset/nsddata_betas/ppdata/subj01/fsaverage/betas_fithrf_GLMdenoise_RR/lh.betas_session01.mgh'),\n",
       " S3Path('s3://natural-scenes-dataset/nsddata_betas/ppdata/subj01/fsaverage/betas_fithrf_GLMdenoise_RR/lh.betas_session02.mgh'),\n",
       " S3Path('s3://natural-scenes-dataset/nsddata_betas/ppdata/subj01/fsaverage/betas_fithrf_GLMdenoise_RR/lh.betas_session03.mgh'),\n",
       " S3Path('s3://natural-scenes-dataset/nsddata_betas/ppdata/subj01/fsaverage/betas_fithrf_GLMdenoise_RR/lh.betas_session04.mgh'),\n",
       " S3Path('s3://natural-scenes-dataset/nsddata_betas/ppdata/subj01/fsaverage/betas_fithrf_GLMdenoise_RR/lh.betas_session05.mgh'),\n",
       " S3Path('s3://natural-scenes-dataset/nsddata_betas/ppdata/subj01/fsaverage/betas_fithrf_GLMdenoise_RR/lh.betas_session06.mgh'),\n",
       " S3Path('s3://natural-scenes-dataset/nsddata_betas/ppdata/subj01/fsaverage/betas_fithrf_GLMdenoise_RR/lh.betas_session07.mgh'),\n",
       " S3Path('s3://natural-scenes-dataset/nsddata_betas/ppdata/subj01/fsaverage/betas_fithrf_GLMdenoise_RR/lh.betas_session08.mgh'),\n",
       " S3Path('s3://natural-scenes-dataset/nsddata_betas/ppdata/subj01/fsaverage/betas_fithrf_GLMdenoise_RR/lh.betas_session09.mgh'),\n",
       " S3Path('s3://natural-scenes-dataset/nsddata_betas/ppdata/subj01/fsaverage/betas_fithrf_GLMdenoise_RR/lh.betas_session10.mgh'),\n",
       " S3Path('s3://natural-scenes-dataset/nsddata_betas/ppdata/subj01/fsaverage/betas_fithrf_GLMdenoise_RR/lh.betas_session11.mgh'),\n",
       " S3Path('s3://natural-scenes-dataset/nsddata_betas/ppdata/subj01/fsaverage/betas_fithrf_GLMdenoise_RR/lh.betas_session12.mgh'),\n",
       " S3Path('s3://natural-scenes-dataset/nsddata_betas/ppdata/subj01/fsaverage/betas_fithrf_GLMdenoise_RR/lh.betas_session13.mgh'),\n",
       " S3Path('s3://natural-scenes-dataset/nsddata_betas/ppdata/subj01/fsaverage/betas_fithrf_GLMdenoise_RR/lh.betas_session14.mgh'),\n",
       " S3Path('s3://natural-scenes-dataset/nsddata_betas/ppdata/subj01/fsaverage/betas_fithrf_GLMdenoise_RR/lh.betas_session15.mgh'),\n",
       " S3Path('s3://natural-scenes-dataset/nsddata_betas/ppdata/subj01/fsaverage/betas_fithrf_GLMdenoise_RR/lh.betas_session16.mgh'),\n",
       " S3Path('s3://natural-scenes-dataset/nsddata_betas/ppdata/subj01/fsaverage/betas_fithrf_GLMdenoise_RR/lh.betas_session17.mgh'),\n",
       " S3Path('s3://natural-scenes-dataset/nsddata_betas/ppdata/subj01/fsaverage/betas_fithrf_GLMdenoise_RR/lh.betas_session18.mgh'),\n",
       " S3Path('s3://natural-scenes-dataset/nsddata_betas/ppdata/subj01/fsaverage/betas_fithrf_GLMdenoise_RR/lh.betas_session19.mgh'),\n",
       " S3Path('s3://natural-scenes-dataset/nsddata_betas/ppdata/subj01/fsaverage/betas_fithrf_GLMdenoise_RR/lh.betas_session20.mgh'),\n",
       " S3Path('s3://natural-scenes-dataset/nsddata_betas/ppdata/subj01/fsaverage/betas_fithrf_GLMdenoise_RR/lh.betas_session21.mgh'),\n",
       " S3Path('s3://natural-scenes-dataset/nsddata_betas/ppdata/subj01/fsaverage/betas_fithrf_GLMdenoise_RR/lh.betas_session22.mgh'),\n",
       " S3Path('s3://natural-scenes-dataset/nsddata_betas/ppdata/subj01/fsaverage/betas_fithrf_GLMdenoise_RR/lh.betas_session23.mgh'),\n",
       " S3Path('s3://natural-scenes-dataset/nsddata_betas/ppdata/subj01/fsaverage/betas_fithrf_GLMdenoise_RR/lh.betas_session24.mgh'),\n",
       " S3Path('s3://natural-scenes-dataset/nsddata_betas/ppdata/subj01/fsaverage/betas_fithrf_GLMdenoise_RR/lh.betas_session25.mgh'),\n",
       " S3Path('s3://natural-scenes-dataset/nsddata_betas/ppdata/subj01/fsaverage/betas_fithrf_GLMdenoise_RR/lh.betas_session26.mgh'),\n",
       " S3Path('s3://natural-scenes-dataset/nsddata_betas/ppdata/subj01/fsaverage/betas_fithrf_GLMdenoise_RR/lh.betas_session27.mgh'),\n",
       " S3Path('s3://natural-scenes-dataset/nsddata_betas/ppdata/subj01/fsaverage/betas_fithrf_GLMdenoise_RR/lh.betas_session28.mgh'),\n",
       " S3Path('s3://natural-scenes-dataset/nsddata_betas/ppdata/subj01/fsaverage/betas_fithrf_GLMdenoise_RR/lh.betas_session29.mgh'),\n",
       " S3Path('s3://natural-scenes-dataset/nsddata_betas/ppdata/subj01/fsaverage/betas_fithrf_GLMdenoise_RR/lh.betas_session30.mgh'),\n",
       " S3Path('s3://natural-scenes-dataset/nsddata_betas/ppdata/subj01/fsaverage/betas_fithrf_GLMdenoise_RR/lh.betas_session31.mgh'),\n",
       " S3Path('s3://natural-scenes-dataset/nsddata_betas/ppdata/subj01/fsaverage/betas_fithrf_GLMdenoise_RR/lh.betas_session32.mgh'),\n",
       " S3Path('s3://natural-scenes-dataset/nsddata_betas/ppdata/subj01/fsaverage/betas_fithrf_GLMdenoise_RR/lh.betas_session33.mgh'),\n",
       " S3Path('s3://natural-scenes-dataset/nsddata_betas/ppdata/subj01/fsaverage/betas_fithrf_GLMdenoise_RR/lh.betas_session34.mgh'),\n",
       " S3Path('s3://natural-scenes-dataset/nsddata_betas/ppdata/subj01/fsaverage/betas_fithrf_GLMdenoise_RR/lh.betas_session35.mgh'),\n",
       " S3Path('s3://natural-scenes-dataset/nsddata_betas/ppdata/subj01/fsaverage/betas_fithrf_GLMdenoise_RR/lh.betas_session36.mgh'),\n",
       " S3Path('s3://natural-scenes-dataset/nsddata_betas/ppdata/subj01/fsaverage/betas_fithrf_GLMdenoise_RR/lh.betas_session37.mgh'),\n",
       " S3Path('s3://natural-scenes-dataset/nsddata_betas/ppdata/subj01/fsaverage/betas_fithrf_GLMdenoise_RR/lh.betas_session38.mgh'),\n",
       " S3Path('s3://natural-scenes-dataset/nsddata_betas/ppdata/subj01/fsaverage/betas_fithrf_GLMdenoise_RR/lh.betas_session39.mgh'),\n",
       " S3Path('s3://natural-scenes-dataset/nsddata_betas/ppdata/subj01/fsaverage/betas_fithrf_GLMdenoise_RR/lh.betas_session40.mgh'),\n",
       " S3Path('s3://natural-scenes-dataset/nsddata_betas/ppdata/subj01/fsaverage/betas_fithrf_GLMdenoise_RR/lh.ncsnr.mgh'),\n",
       " S3Path('s3://natural-scenes-dataset/nsddata_betas/ppdata/subj01/fsaverage/betas_fithrf_GLMdenoise_RR/lh.ncsnr_split1.mgh'),\n",
       " S3Path('s3://natural-scenes-dataset/nsddata_betas/ppdata/subj01/fsaverage/betas_fithrf_GLMdenoise_RR/lh.ncsnr_split2.mgh'),\n",
       " S3Path('s3://natural-scenes-dataset/nsddata_betas/ppdata/subj01/fsaverage/betas_fithrf_GLMdenoise_RR/rh.betas_session01.mgh'),\n",
       " S3Path('s3://natural-scenes-dataset/nsddata_betas/ppdata/subj01/fsaverage/betas_fithrf_GLMdenoise_RR/rh.betas_session02.mgh'),\n",
       " S3Path('s3://natural-scenes-dataset/nsddata_betas/ppdata/subj01/fsaverage/betas_fithrf_GLMdenoise_RR/rh.betas_session03.mgh'),\n",
       " S3Path('s3://natural-scenes-dataset/nsddata_betas/ppdata/subj01/fsaverage/betas_fithrf_GLMdenoise_RR/rh.betas_session04.mgh'),\n",
       " S3Path('s3://natural-scenes-dataset/nsddata_betas/ppdata/subj01/fsaverage/betas_fithrf_GLMdenoise_RR/rh.betas_session05.mgh'),\n",
       " S3Path('s3://natural-scenes-dataset/nsddata_betas/ppdata/subj01/fsaverage/betas_fithrf_GLMdenoise_RR/rh.betas_session06.mgh'),\n",
       " S3Path('s3://natural-scenes-dataset/nsddata_betas/ppdata/subj01/fsaverage/betas_fithrf_GLMdenoise_RR/rh.betas_session07.mgh'),\n",
       " S3Path('s3://natural-scenes-dataset/nsddata_betas/ppdata/subj01/fsaverage/betas_fithrf_GLMdenoise_RR/rh.betas_session08.mgh'),\n",
       " S3Path('s3://natural-scenes-dataset/nsddata_betas/ppdata/subj01/fsaverage/betas_fithrf_GLMdenoise_RR/rh.betas_session09.mgh'),\n",
       " S3Path('s3://natural-scenes-dataset/nsddata_betas/ppdata/subj01/fsaverage/betas_fithrf_GLMdenoise_RR/rh.betas_session10.mgh'),\n",
       " S3Path('s3://natural-scenes-dataset/nsddata_betas/ppdata/subj01/fsaverage/betas_fithrf_GLMdenoise_RR/rh.betas_session11.mgh'),\n",
       " S3Path('s3://natural-scenes-dataset/nsddata_betas/ppdata/subj01/fsaverage/betas_fithrf_GLMdenoise_RR/rh.betas_session12.mgh'),\n",
       " S3Path('s3://natural-scenes-dataset/nsddata_betas/ppdata/subj01/fsaverage/betas_fithrf_GLMdenoise_RR/rh.betas_session13.mgh'),\n",
       " S3Path('s3://natural-scenes-dataset/nsddata_betas/ppdata/subj01/fsaverage/betas_fithrf_GLMdenoise_RR/rh.betas_session14.mgh'),\n",
       " S3Path('s3://natural-scenes-dataset/nsddata_betas/ppdata/subj01/fsaverage/betas_fithrf_GLMdenoise_RR/rh.betas_session15.mgh'),\n",
       " S3Path('s3://natural-scenes-dataset/nsddata_betas/ppdata/subj01/fsaverage/betas_fithrf_GLMdenoise_RR/rh.betas_session16.mgh'),\n",
       " S3Path('s3://natural-scenes-dataset/nsddata_betas/ppdata/subj01/fsaverage/betas_fithrf_GLMdenoise_RR/rh.betas_session17.mgh'),\n",
       " S3Path('s3://natural-scenes-dataset/nsddata_betas/ppdata/subj01/fsaverage/betas_fithrf_GLMdenoise_RR/rh.betas_session18.mgh'),\n",
       " S3Path('s3://natural-scenes-dataset/nsddata_betas/ppdata/subj01/fsaverage/betas_fithrf_GLMdenoise_RR/rh.betas_session19.mgh'),\n",
       " S3Path('s3://natural-scenes-dataset/nsddata_betas/ppdata/subj01/fsaverage/betas_fithrf_GLMdenoise_RR/rh.betas_session20.mgh'),\n",
       " S3Path('s3://natural-scenes-dataset/nsddata_betas/ppdata/subj01/fsaverage/betas_fithrf_GLMdenoise_RR/rh.betas_session21.mgh'),\n",
       " S3Path('s3://natural-scenes-dataset/nsddata_betas/ppdata/subj01/fsaverage/betas_fithrf_GLMdenoise_RR/rh.betas_session22.mgh'),\n",
       " S3Path('s3://natural-scenes-dataset/nsddata_betas/ppdata/subj01/fsaverage/betas_fithrf_GLMdenoise_RR/rh.betas_session23.mgh'),\n",
       " S3Path('s3://natural-scenes-dataset/nsddata_betas/ppdata/subj01/fsaverage/betas_fithrf_GLMdenoise_RR/rh.betas_session24.mgh'),\n",
       " S3Path('s3://natural-scenes-dataset/nsddata_betas/ppdata/subj01/fsaverage/betas_fithrf_GLMdenoise_RR/rh.betas_session25.mgh'),\n",
       " S3Path('s3://natural-scenes-dataset/nsddata_betas/ppdata/subj01/fsaverage/betas_fithrf_GLMdenoise_RR/rh.betas_session26.mgh'),\n",
       " S3Path('s3://natural-scenes-dataset/nsddata_betas/ppdata/subj01/fsaverage/betas_fithrf_GLMdenoise_RR/rh.betas_session27.mgh'),\n",
       " S3Path('s3://natural-scenes-dataset/nsddata_betas/ppdata/subj01/fsaverage/betas_fithrf_GLMdenoise_RR/rh.betas_session28.mgh'),\n",
       " S3Path('s3://natural-scenes-dataset/nsddata_betas/ppdata/subj01/fsaverage/betas_fithrf_GLMdenoise_RR/rh.betas_session29.mgh'),\n",
       " S3Path('s3://natural-scenes-dataset/nsddata_betas/ppdata/subj01/fsaverage/betas_fithrf_GLMdenoise_RR/rh.betas_session30.mgh'),\n",
       " S3Path('s3://natural-scenes-dataset/nsddata_betas/ppdata/subj01/fsaverage/betas_fithrf_GLMdenoise_RR/rh.betas_session31.mgh'),\n",
       " S3Path('s3://natural-scenes-dataset/nsddata_betas/ppdata/subj01/fsaverage/betas_fithrf_GLMdenoise_RR/rh.betas_session32.mgh'),\n",
       " S3Path('s3://natural-scenes-dataset/nsddata_betas/ppdata/subj01/fsaverage/betas_fithrf_GLMdenoise_RR/rh.betas_session33.mgh'),\n",
       " S3Path('s3://natural-scenes-dataset/nsddata_betas/ppdata/subj01/fsaverage/betas_fithrf_GLMdenoise_RR/rh.betas_session34.mgh'),\n",
       " S3Path('s3://natural-scenes-dataset/nsddata_betas/ppdata/subj01/fsaverage/betas_fithrf_GLMdenoise_RR/rh.betas_session35.mgh'),\n",
       " S3Path('s3://natural-scenes-dataset/nsddata_betas/ppdata/subj01/fsaverage/betas_fithrf_GLMdenoise_RR/rh.betas_session36.mgh'),\n",
       " S3Path('s3://natural-scenes-dataset/nsddata_betas/ppdata/subj01/fsaverage/betas_fithrf_GLMdenoise_RR/rh.betas_session37.mgh'),\n",
       " S3Path('s3://natural-scenes-dataset/nsddata_betas/ppdata/subj01/fsaverage/betas_fithrf_GLMdenoise_RR/rh.betas_session38.mgh'),\n",
       " S3Path('s3://natural-scenes-dataset/nsddata_betas/ppdata/subj01/fsaverage/betas_fithrf_GLMdenoise_RR/rh.betas_session39.mgh'),\n",
       " S3Path('s3://natural-scenes-dataset/nsddata_betas/ppdata/subj01/fsaverage/betas_fithrf_GLMdenoise_RR/rh.betas_session40.mgh'),\n",
       " S3Path('s3://natural-scenes-dataset/nsddata_betas/ppdata/subj01/fsaverage/betas_fithrf_GLMdenoise_RR/rh.ncsnr.mgh'),\n",
       " S3Path('s3://natural-scenes-dataset/nsddata_betas/ppdata/subj01/fsaverage/betas_fithrf_GLMdenoise_RR/rh.ncsnr_split1.mgh'),\n",
       " S3Path('s3://natural-scenes-dataset/nsddata_betas/ppdata/subj01/fsaverage/betas_fithrf_GLMdenoise_RR/rh.ncsnr_split2.mgh')]"
      ]
     },
     "execution_count": 3,
     "metadata": {},
     "output_type": "execute_result"
    }
   ],
   "source": [
    "from utils import ls, crawl\n",
    "\n",
    "nsd_pppath = nsd_base_path / 'nsddata_betas' / 'ppdata'\n",
    "\n",
    "ls(nsd_pppath / 'subj01' / 'fsaverage' / 'betas_fithrf_GLMdenoise_RR')"
   ]
  },
  {
   "cell_type": "markdown",
   "id": "00419ce4-c80b-4817-bc1b-8252d07af20f",
   "metadata": {},
   "source": [
    "### Loading data in volume space (1.8mm isotropic resolution)"
   ]
  },
  {
   "cell_type": "code",
   "execution_count": 4,
   "id": "6c491ec0-3879-44d0-a88e-53d353917add",
   "metadata": {
    "tags": []
   },
   "outputs": [
    {
     "data": {
      "text/plain": [
       "[699192, 750]"
      ]
     },
     "execution_count": 4,
     "metadata": {},
     "output_type": "execute_result"
    }
   ],
   "source": [
    "vimg_filename = nsd_pppath / 'subj01' / 'func1pt8mm' / 'betas_fithrf_GLMdenoise_RR' / 'betas_session01.nii.gz'\n",
    "vimg = nib.load(vimg_filename.fspath)\n",
    "vimg = vimg.dataobj\n",
    "\n",
    "# reshape to vector of nvoxels x ntimepoints\n",
    "vimg = vimg.reshape([np.prod(vimg.shape[0:-1]),vimg.shape[-1]])\n",
    "\n",
    "vimg.shape"
   ]
  },
  {
   "cell_type": "markdown",
   "id": "804696c5-58ef-4ff6-97a9-c768a65a2b36",
   "metadata": {},
   "source": [
    "### Loading data in surface space (fsaverage)"
   ]
  },
  {
   "cell_type": "code",
   "execution_count": 5,
   "id": "b025694e-d417-4584-a5f2-2bfceddd9aa1",
   "metadata": {
    "tags": []
   },
   "outputs": [
    {
     "data": {
      "text/plain": [
       "[163842, 750]"
      ]
     },
     "execution_count": 5,
     "metadata": {},
     "output_type": "execute_result"
    }
   ],
   "source": [
    "simg_filename = nsd_pppath / 'subj01' / 'fsaverage' / 'betas_fithrf_GLMdenoise_RR' / 'lh.betas_session01.mgh'\n",
    "simg = nib.load(simg_filename.fspath)\n",
    "simg = simg.dataobj\n",
    "\n",
    "# reshape to vector of nvoxels x ntimepoints\n",
    "simg = simg.reshape([np.prod(simg.shape[0:-1]),simg.shape[-1]])\n",
    "\n",
    "simg.shape"
   ]
  },
  {
   "cell_type": "markdown",
   "id": "5fb9da77-073e-4b19-ab6a-c642e5c3f671",
   "metadata": {
    "tags": []
   },
   "source": [
    "### Loading in stimuli data"
   ]
  },
  {
   "cell_type": "code",
   "execution_count": 6,
   "id": "55fda459-367b-4973-9a5a-0af4f4ce0cb4",
   "metadata": {
    "tags": []
   },
   "outputs": [
    {
     "data": {
      "text/plain": [
       "[S3Path('s3://natural-scenes-dataset/nsddata_stimuli/stimuli/nsd/nsd_stimuli.hdf5')]"
      ]
     },
     "execution_count": 6,
     "metadata": {},
     "output_type": "execute_result"
    }
   ],
   "source": [
    "ls(nsd_base_path)\n",
    "nsd_stimuli = nsd_base_path / 'nsddata_stimuli' / 'stimuli' / 'nsd'\n",
    "ls(nsd_stimuli)"
   ]
  },
  {
   "cell_type": "code",
   "execution_count": 7,
   "id": "6a04af4a-7d2a-4654-81db-5eb3fb52a11a",
   "metadata": {
    "tags": []
   },
   "outputs": [
    {
     "name": "stdout",
     "output_type": "stream",
     "text": [
      "Keys: <KeysViewHDF5 ['imgBrick']>\n"
     ]
    }
   ],
   "source": [
    "f1 = h5py.File((nsd_stimuli / 'nsd_stimuli.hdf5').fspath, 'r+')\n",
    "print(\"Keys: %s\" % f1.keys())\n",
    "dset = f1['imgBrick']\n",
    "#f1.close"
   ]
  },
  {
   "cell_type": "code",
   "execution_count": 8,
   "id": "51aac8ee-8138-4596-9052-241d240477ba",
   "metadata": {},
   "outputs": [
    {
     "data": {
      "text/plain": [
       "<HDF5 dataset \"imgBrick\": shape (73000, 425, 425, 3), type \"|u1\">"
      ]
     },
     "execution_count": 8,
     "metadata": {},
     "output_type": "execute_result"
    }
   ],
   "source": [
    "dset"
   ]
  },
  {
   "cell_type": "code",
   "execution_count": 9,
   "id": "0f411d66-9072-4447-8cec-b49b8ef91121",
   "metadata": {},
   "outputs": [
    {
     "data": {
      "text/plain": [
       "(425, 425, 3)"
      ]
     },
     "execution_count": 9,
     "metadata": {},
     "output_type": "execute_result"
    }
   ],
   "source": [
    "dset[0].shape"
   ]
  },
  {
   "cell_type": "code",
   "execution_count": 10,
   "id": "59c5e6db-98f1-457a-8bf3-208061c8685b",
   "metadata": {},
   "outputs": [],
   "source": [
    "#73000 images, 425x425 shape and 3 RGB color dimensions"
   ]
  },
  {
   "cell_type": "markdown",
   "id": "4afd056c-1a47-4b8e-a104-af02a88c5df4",
   "metadata": {
    "tags": []
   },
   "source": [
    "### Load in stimulus set for subj01"
   ]
  },
  {
   "cell_type": "code",
   "execution_count": 27,
   "id": "6d076e4b-96e7-4bd0-a824-3158234e377f",
   "metadata": {
    "tags": []
   },
   "outputs": [
    {
     "data": {
      "text/html": [
       "<div>\n",
       "<style scoped>\n",
       "    .dataframe tbody tr th:only-of-type {\n",
       "        vertical-align: middle;\n",
       "    }\n",
       "\n",
       "    .dataframe tbody tr th {\n",
       "        vertical-align: top;\n",
       "    }\n",
       "\n",
       "    .dataframe thead th {\n",
       "        text-align: right;\n",
       "    }\n",
       "</style>\n",
       "<table border=\"1\" class=\"dataframe\">\n",
       "  <thead>\n",
       "    <tr style=\"text-align: right;\">\n",
       "      <th></th>\n",
       "      <th>SUBJECT</th>\n",
       "      <th>SESSION</th>\n",
       "      <th>RUN</th>\n",
       "      <th>TRIAL</th>\n",
       "      <th>73KID</th>\n",
       "      <th>10KID</th>\n",
       "      <th>TIME</th>\n",
       "      <th>ISOLD</th>\n",
       "      <th>ISCORRECT</th>\n",
       "      <th>RT</th>\n",
       "      <th>CHANGEMIND</th>\n",
       "      <th>MEMORYRECENT</th>\n",
       "      <th>MEMORYFIRST</th>\n",
       "      <th>ISOLDCURRENT</th>\n",
       "      <th>ISCORRECTCURRENT</th>\n",
       "      <th>TOTAL1</th>\n",
       "      <th>TOTAL2</th>\n",
       "      <th>BUTTON</th>\n",
       "      <th>MISSINGDATA</th>\n",
       "    </tr>\n",
       "  </thead>\n",
       "  <tbody>\n",
       "    <tr>\n",
       "      <th>0</th>\n",
       "      <td>1</td>\n",
       "      <td>1</td>\n",
       "      <td>1</td>\n",
       "      <td>1</td>\n",
       "      <td>46003</td>\n",
       "      <td>626</td>\n",
       "      <td>0.505082</td>\n",
       "      <td>0</td>\n",
       "      <td>1.0</td>\n",
       "      <td>803.529781</td>\n",
       "      <td>0.0</td>\n",
       "      <td>NaN</td>\n",
       "      <td>NaN</td>\n",
       "      <td>0</td>\n",
       "      <td>1.0</td>\n",
       "      <td>1</td>\n",
       "      <td>0</td>\n",
       "      <td>1.0</td>\n",
       "      <td>0</td>\n",
       "    </tr>\n",
       "    <tr>\n",
       "      <th>1</th>\n",
       "      <td>1</td>\n",
       "      <td>1</td>\n",
       "      <td>1</td>\n",
       "      <td>2</td>\n",
       "      <td>61883</td>\n",
       "      <td>5013</td>\n",
       "      <td>0.505128</td>\n",
       "      <td>0</td>\n",
       "      <td>1.0</td>\n",
       "      <td>972.261383</td>\n",
       "      <td>0.0</td>\n",
       "      <td>NaN</td>\n",
       "      <td>NaN</td>\n",
       "      <td>0</td>\n",
       "      <td>1.0</td>\n",
       "      <td>1</td>\n",
       "      <td>0</td>\n",
       "      <td>1.0</td>\n",
       "      <td>0</td>\n",
       "    </tr>\n",
       "    <tr>\n",
       "      <th>2</th>\n",
       "      <td>1</td>\n",
       "      <td>1</td>\n",
       "      <td>1</td>\n",
       "      <td>3</td>\n",
       "      <td>829</td>\n",
       "      <td>4850</td>\n",
       "      <td>0.505175</td>\n",
       "      <td>0</td>\n",
       "      <td>1.0</td>\n",
       "      <td>742.351236</td>\n",
       "      <td>0.0</td>\n",
       "      <td>NaN</td>\n",
       "      <td>NaN</td>\n",
       "      <td>0</td>\n",
       "      <td>1.0</td>\n",
       "      <td>1</td>\n",
       "      <td>0</td>\n",
       "      <td>1.0</td>\n",
       "      <td>0</td>\n",
       "    </tr>\n",
       "    <tr>\n",
       "      <th>3</th>\n",
       "      <td>1</td>\n",
       "      <td>1</td>\n",
       "      <td>1</td>\n",
       "      <td>4</td>\n",
       "      <td>67574</td>\n",
       "      <td>8823</td>\n",
       "      <td>0.505221</td>\n",
       "      <td>0</td>\n",
       "      <td>1.0</td>\n",
       "      <td>747.518479</td>\n",
       "      <td>0.0</td>\n",
       "      <td>NaN</td>\n",
       "      <td>NaN</td>\n",
       "      <td>0</td>\n",
       "      <td>1.0</td>\n",
       "      <td>1</td>\n",
       "      <td>0</td>\n",
       "      <td>1.0</td>\n",
       "      <td>0</td>\n",
       "    </tr>\n",
       "    <tr>\n",
       "      <th>4</th>\n",
       "      <td>1</td>\n",
       "      <td>1</td>\n",
       "      <td>1</td>\n",
       "      <td>5</td>\n",
       "      <td>16021</td>\n",
       "      <td>9538</td>\n",
       "      <td>0.505267</td>\n",
       "      <td>0</td>\n",
       "      <td>1.0</td>\n",
       "      <td>547.422774</td>\n",
       "      <td>0.0</td>\n",
       "      <td>NaN</td>\n",
       "      <td>NaN</td>\n",
       "      <td>0</td>\n",
       "      <td>1.0</td>\n",
       "      <td>1</td>\n",
       "      <td>0</td>\n",
       "      <td>1.0</td>\n",
       "      <td>0</td>\n",
       "    </tr>\n",
       "    <tr>\n",
       "      <th>...</th>\n",
       "      <td>...</td>\n",
       "      <td>...</td>\n",
       "      <td>...</td>\n",
       "      <td>...</td>\n",
       "      <td>...</td>\n",
       "      <td>...</td>\n",
       "      <td>...</td>\n",
       "      <td>...</td>\n",
       "      <td>...</td>\n",
       "      <td>...</td>\n",
       "      <td>...</td>\n",
       "      <td>...</td>\n",
       "      <td>...</td>\n",
       "      <td>...</td>\n",
       "      <td>...</td>\n",
       "      <td>...</td>\n",
       "      <td>...</td>\n",
       "      <td>...</td>\n",
       "      <td>...</td>\n",
       "    </tr>\n",
       "    <tr>\n",
       "      <th>29995</th>\n",
       "      <td>1</td>\n",
       "      <td>40</td>\n",
       "      <td>12</td>\n",
       "      <td>58</td>\n",
       "      <td>13774</td>\n",
       "      <td>8984</td>\n",
       "      <td>262.629551</td>\n",
       "      <td>1</td>\n",
       "      <td>0.0</td>\n",
       "      <td>1275.300175</td>\n",
       "      <td>0.0</td>\n",
       "      <td>20963.0</td>\n",
       "      <td>21540.0</td>\n",
       "      <td>0</td>\n",
       "      <td>1.0</td>\n",
       "      <td>1</td>\n",
       "      <td>0</td>\n",
       "      <td>1.0</td>\n",
       "      <td>0</td>\n",
       "    </tr>\n",
       "    <tr>\n",
       "      <th>29996</th>\n",
       "      <td>1</td>\n",
       "      <td>40</td>\n",
       "      <td>12</td>\n",
       "      <td>59</td>\n",
       "      <td>66768</td>\n",
       "      <td>6026</td>\n",
       "      <td>262.629597</td>\n",
       "      <td>1</td>\n",
       "      <td>1.0</td>\n",
       "      <td>661.379768</td>\n",
       "      <td>0.0</td>\n",
       "      <td>16.0</td>\n",
       "      <td>17622.0</td>\n",
       "      <td>1</td>\n",
       "      <td>1.0</td>\n",
       "      <td>0</td>\n",
       "      <td>1</td>\n",
       "      <td>2.0</td>\n",
       "      <td>0</td>\n",
       "    </tr>\n",
       "    <tr>\n",
       "      <th>29997</th>\n",
       "      <td>1</td>\n",
       "      <td>40</td>\n",
       "      <td>12</td>\n",
       "      <td>60</td>\n",
       "      <td>53168</td>\n",
       "      <td>4841</td>\n",
       "      <td>262.629644</td>\n",
       "      <td>1</td>\n",
       "      <td>1.0</td>\n",
       "      <td>786.811781</td>\n",
       "      <td>0.0</td>\n",
       "      <td>9483.0</td>\n",
       "      <td>11912.0</td>\n",
       "      <td>0</td>\n",
       "      <td>0.0</td>\n",
       "      <td>0</td>\n",
       "      <td>1</td>\n",
       "      <td>2.0</td>\n",
       "      <td>0</td>\n",
       "    </tr>\n",
       "    <tr>\n",
       "      <th>29998</th>\n",
       "      <td>1</td>\n",
       "      <td>40</td>\n",
       "      <td>12</td>\n",
       "      <td>61</td>\n",
       "      <td>1944</td>\n",
       "      <td>7323</td>\n",
       "      <td>262.629690</td>\n",
       "      <td>1</td>\n",
       "      <td>1.0</td>\n",
       "      <td>502.626801</td>\n",
       "      <td>0.0</td>\n",
       "      <td>83.0</td>\n",
       "      <td>12162.0</td>\n",
       "      <td>1</td>\n",
       "      <td>1.0</td>\n",
       "      <td>0</td>\n",
       "      <td>1</td>\n",
       "      <td>2.0</td>\n",
       "      <td>0</td>\n",
       "    </tr>\n",
       "    <tr>\n",
       "      <th>29999</th>\n",
       "      <td>1</td>\n",
       "      <td>40</td>\n",
       "      <td>12</td>\n",
       "      <td>62</td>\n",
       "      <td>5034</td>\n",
       "      <td>9972</td>\n",
       "      <td>262.629736</td>\n",
       "      <td>1</td>\n",
       "      <td>0.0</td>\n",
       "      <td>883.122362</td>\n",
       "      <td>0.0</td>\n",
       "      <td>28968.0</td>\n",
       "      <td>29798.0</td>\n",
       "      <td>0</td>\n",
       "      <td>1.0</td>\n",
       "      <td>1</td>\n",
       "      <td>0</td>\n",
       "      <td>1.0</td>\n",
       "      <td>0</td>\n",
       "    </tr>\n",
       "  </tbody>\n",
       "</table>\n",
       "<p>30000 rows × 19 columns</p>\n",
       "</div>"
      ],
      "text/plain": [
       "       SUBJECT  SESSION  RUN  TRIAL  73KID  10KID        TIME  ISOLD  \\\n",
       "0            1        1    1      1  46003    626    0.505082      0   \n",
       "1            1        1    1      2  61883   5013    0.505128      0   \n",
       "2            1        1    1      3    829   4850    0.505175      0   \n",
       "3            1        1    1      4  67574   8823    0.505221      0   \n",
       "4            1        1    1      5  16021   9538    0.505267      0   \n",
       "...        ...      ...  ...    ...    ...    ...         ...    ...   \n",
       "29995        1       40   12     58  13774   8984  262.629551      1   \n",
       "29996        1       40   12     59  66768   6026  262.629597      1   \n",
       "29997        1       40   12     60  53168   4841  262.629644      1   \n",
       "29998        1       40   12     61   1944   7323  262.629690      1   \n",
       "29999        1       40   12     62   5034   9972  262.629736      1   \n",
       "\n",
       "       ISCORRECT           RT  CHANGEMIND  MEMORYRECENT  MEMORYFIRST  \\\n",
       "0            1.0   803.529781         0.0           NaN          NaN   \n",
       "1            1.0   972.261383         0.0           NaN          NaN   \n",
       "2            1.0   742.351236         0.0           NaN          NaN   \n",
       "3            1.0   747.518479         0.0           NaN          NaN   \n",
       "4            1.0   547.422774         0.0           NaN          NaN   \n",
       "...          ...          ...         ...           ...          ...   \n",
       "29995        0.0  1275.300175         0.0       20963.0      21540.0   \n",
       "29996        1.0   661.379768         0.0          16.0      17622.0   \n",
       "29997        1.0   786.811781         0.0        9483.0      11912.0   \n",
       "29998        1.0   502.626801         0.0          83.0      12162.0   \n",
       "29999        0.0   883.122362         0.0       28968.0      29798.0   \n",
       "\n",
       "       ISOLDCURRENT  ISCORRECTCURRENT  TOTAL1  TOTAL2  BUTTON  MISSINGDATA  \n",
       "0                 0               1.0       1       0     1.0            0  \n",
       "1                 0               1.0       1       0     1.0            0  \n",
       "2                 0               1.0       1       0     1.0            0  \n",
       "3                 0               1.0       1       0     1.0            0  \n",
       "4                 0               1.0       1       0     1.0            0  \n",
       "...             ...               ...     ...     ...     ...          ...  \n",
       "29995             0               1.0       1       0     1.0            0  \n",
       "29996             1               1.0       0       1     2.0            0  \n",
       "29997             0               0.0       0       1     2.0            0  \n",
       "29998             1               1.0       0       1     2.0            0  \n",
       "29999             0               1.0       1       0     1.0            0  \n",
       "\n",
       "[30000 rows x 19 columns]"
      ]
     },
     "execution_count": 27,
     "metadata": {},
     "output_type": "execute_result"
    }
   ],
   "source": [
    "stimdata_s1 = nsd_base_path / 'nsddata' / 'ppdata' / 'subj01' / 'behav' / 'responses.tsv'\n",
    "#ls(stimdata_s1)\n",
    "expdata = pd.read_table(stimdata_s1)\n",
    "expdata"
   ]
  },
  {
   "cell_type": "code",
   "execution_count": 12,
   "id": "8f9b764a-9b3a-4245-aa13-88968664b747",
   "metadata": {
    "tags": []
   },
   "outputs": [
    {
     "data": {
      "text/html": [
       "<div>\n",
       "<style scoped>\n",
       "    .dataframe tbody tr th:only-of-type {\n",
       "        vertical-align: middle;\n",
       "    }\n",
       "\n",
       "    .dataframe tbody tr th {\n",
       "        vertical-align: top;\n",
       "    }\n",
       "\n",
       "    .dataframe thead th {\n",
       "        text-align: right;\n",
       "    }\n",
       "</style>\n",
       "<table border=\"1\" class=\"dataframe\">\n",
       "  <thead>\n",
       "    <tr style=\"text-align: right;\">\n",
       "      <th></th>\n",
       "      <th>SUBJECT</th>\n",
       "      <th>SESSION</th>\n",
       "      <th>RUN</th>\n",
       "      <th>TRIAL</th>\n",
       "      <th>73KID</th>\n",
       "    </tr>\n",
       "  </thead>\n",
       "  <tbody>\n",
       "    <tr>\n",
       "      <th>0</th>\n",
       "      <td>1</td>\n",
       "      <td>1</td>\n",
       "      <td>1</td>\n",
       "      <td>1</td>\n",
       "      <td>46003</td>\n",
       "    </tr>\n",
       "    <tr>\n",
       "      <th>1</th>\n",
       "      <td>1</td>\n",
       "      <td>1</td>\n",
       "      <td>1</td>\n",
       "      <td>2</td>\n",
       "      <td>61883</td>\n",
       "    </tr>\n",
       "    <tr>\n",
       "      <th>2</th>\n",
       "      <td>1</td>\n",
       "      <td>1</td>\n",
       "      <td>1</td>\n",
       "      <td>3</td>\n",
       "      <td>829</td>\n",
       "    </tr>\n",
       "    <tr>\n",
       "      <th>3</th>\n",
       "      <td>1</td>\n",
       "      <td>1</td>\n",
       "      <td>1</td>\n",
       "      <td>4</td>\n",
       "      <td>67574</td>\n",
       "    </tr>\n",
       "    <tr>\n",
       "      <th>4</th>\n",
       "      <td>1</td>\n",
       "      <td>1</td>\n",
       "      <td>1</td>\n",
       "      <td>5</td>\n",
       "      <td>16021</td>\n",
       "    </tr>\n",
       "    <tr>\n",
       "      <th>...</th>\n",
       "      <td>...</td>\n",
       "      <td>...</td>\n",
       "      <td>...</td>\n",
       "      <td>...</td>\n",
       "      <td>...</td>\n",
       "    </tr>\n",
       "    <tr>\n",
       "      <th>29995</th>\n",
       "      <td>1</td>\n",
       "      <td>40</td>\n",
       "      <td>12</td>\n",
       "      <td>58</td>\n",
       "      <td>13774</td>\n",
       "    </tr>\n",
       "    <tr>\n",
       "      <th>29996</th>\n",
       "      <td>1</td>\n",
       "      <td>40</td>\n",
       "      <td>12</td>\n",
       "      <td>59</td>\n",
       "      <td>66768</td>\n",
       "    </tr>\n",
       "    <tr>\n",
       "      <th>29997</th>\n",
       "      <td>1</td>\n",
       "      <td>40</td>\n",
       "      <td>12</td>\n",
       "      <td>60</td>\n",
       "      <td>53168</td>\n",
       "    </tr>\n",
       "    <tr>\n",
       "      <th>29998</th>\n",
       "      <td>1</td>\n",
       "      <td>40</td>\n",
       "      <td>12</td>\n",
       "      <td>61</td>\n",
       "      <td>1944</td>\n",
       "    </tr>\n",
       "    <tr>\n",
       "      <th>29999</th>\n",
       "      <td>1</td>\n",
       "      <td>40</td>\n",
       "      <td>12</td>\n",
       "      <td>62</td>\n",
       "      <td>5034</td>\n",
       "    </tr>\n",
       "  </tbody>\n",
       "</table>\n",
       "<p>30000 rows × 5 columns</p>\n",
       "</div>"
      ],
      "text/plain": [
       "       SUBJECT  SESSION  RUN  TRIAL  73KID\n",
       "0            1        1    1      1  46003\n",
       "1            1        1    1      2  61883\n",
       "2            1        1    1      3    829\n",
       "3            1        1    1      4  67574\n",
       "4            1        1    1      5  16021\n",
       "...        ...      ...  ...    ...    ...\n",
       "29995        1       40   12     58  13774\n",
       "29996        1       40   12     59  66768\n",
       "29997        1       40   12     60  53168\n",
       "29998        1       40   12     61   1944\n",
       "29999        1       40   12     62   5034\n",
       "\n",
       "[30000 rows x 5 columns]"
      ]
     },
     "execution_count": 12,
     "metadata": {},
     "output_type": "execute_result"
    }
   ],
   "source": [
    "sub_df = expdata[[\"SUBJECT\",\"SESSION\",\"RUN\",\"TRIAL\",\"73KID\"]]\n",
    "sub_df"
   ]
  },
  {
   "cell_type": "code",
   "execution_count": 13,
   "id": "3bb836d3-5d7b-412c-8a30-6db7cb6c5503",
   "metadata": {
    "tags": []
   },
   "outputs": [
    {
     "data": {
      "text/plain": [
       "[14, 73000]"
      ]
     },
     "execution_count": 13,
     "metadata": {},
     "output_type": "execute_result"
    }
   ],
   "source": [
    "[min(sub_df['73KID']), max(sub_df['73KID'])]"
   ]
  },
  {
   "cell_type": "markdown",
   "id": "46db5f9c-0ddd-41ab-99bd-252b79ad1de9",
   "metadata": {},
   "source": [
    "### Read in the annotated labels"
   ]
  },
  {
   "cell_type": "code",
   "execution_count": 14,
   "id": "82be4ba4-254d-4594-9aa3-2af1803c6a69",
   "metadata": {
    "tags": []
   },
   "outputs": [],
   "source": [
    "#Find cocoIDs for each stimulus\n",
    "ls(nsd_base_path)\n",
    "nsd_cocoIDs = nsd_base_path / 'nsddata' / 'experiments' / 'nsd' / 'nsd_stim_info_merged.csv'"
   ]
  },
  {
   "cell_type": "code",
   "execution_count": 15,
   "id": "d03c444e-c421-484b-8848-b425510b7933",
   "metadata": {
    "tags": []
   },
   "outputs": [
    {
     "data": {
      "text/plain": [
       "0        532481\n",
       "1        245764\n",
       "2        385029\n",
       "3        311303\n",
       "4        393226\n",
       "          ...  \n",
       "72995    518071\n",
       "72996    255930\n",
       "72997    255934\n",
       "72998    518080\n",
       "72999    518083\n",
       "Name: cocoId, Length: 73000, dtype: int64"
      ]
     },
     "execution_count": 15,
     "metadata": {},
     "output_type": "execute_result"
    }
   ],
   "source": [
    "cocoID_DF = pd.read_csv(nsd_cocoIDs)\n",
    "cocoID = cocoID_DF['cocoId']\n",
    "cocoID"
   ]
  },
  {
   "cell_type": "code",
   "execution_count": 16,
   "id": "a7e6ab44-ca00-420f-9b87-833a5ce86056",
   "metadata": {},
   "outputs": [],
   "source": [
    "#add respective cocoID to the dataframe above to match the 73KID"
   ]
  },
  {
   "cell_type": "code",
   "execution_count": 17,
   "id": "31569e85-914b-4cf8-bbf2-7bd2142b8068",
   "metadata": {
    "tags": []
   },
   "outputs": [],
   "source": [
    "sub_cocoID = []\n",
    "for trial in sub_df[\"73KID\"]:\n",
    "    sub_cocoID.append(cocoID.iloc[trial-1])"
   ]
  },
  {
   "cell_type": "code",
   "execution_count": 166,
   "id": "c224f367-dfbd-406a-bf6f-2372751a21c6",
   "metadata": {
    "tags": []
   },
   "outputs": [
    {
     "data": {
      "text/html": [
       "<div>\n",
       "<style scoped>\n",
       "    .dataframe tbody tr th:only-of-type {\n",
       "        vertical-align: middle;\n",
       "    }\n",
       "\n",
       "    .dataframe tbody tr th {\n",
       "        vertical-align: top;\n",
       "    }\n",
       "\n",
       "    .dataframe thead th {\n",
       "        text-align: right;\n",
       "    }\n",
       "</style>\n",
       "<table border=\"1\" class=\"dataframe\">\n",
       "  <thead>\n",
       "    <tr style=\"text-align: right;\">\n",
       "      <th></th>\n",
       "      <th>SUBJECT</th>\n",
       "      <th>SESSION</th>\n",
       "      <th>RUN</th>\n",
       "      <th>TRIAL</th>\n",
       "      <th>73KID</th>\n",
       "      <th>COCOID</th>\n",
       "    </tr>\n",
       "  </thead>\n",
       "  <tbody>\n",
       "    <tr>\n",
       "      <th>0</th>\n",
       "      <td>1</td>\n",
       "      <td>1</td>\n",
       "      <td>1</td>\n",
       "      <td>1</td>\n",
       "      <td>46003</td>\n",
       "      <td>412922</td>\n",
       "    </tr>\n",
       "    <tr>\n",
       "      <th>1</th>\n",
       "      <td>1</td>\n",
       "      <td>1</td>\n",
       "      <td>1</td>\n",
       "      <td>2</td>\n",
       "      <td>61883</td>\n",
       "      <td>474858</td>\n",
       "    </tr>\n",
       "    <tr>\n",
       "      <th>2</th>\n",
       "      <td>1</td>\n",
       "      <td>1</td>\n",
       "      <td>1</td>\n",
       "      <td>3</td>\n",
       "      <td>829</td>\n",
       "      <td>320696</td>\n",
       "    </tr>\n",
       "    <tr>\n",
       "      <th>3</th>\n",
       "      <td>1</td>\n",
       "      <td>1</td>\n",
       "      <td>1</td>\n",
       "      <td>4</td>\n",
       "      <td>67574</td>\n",
       "      <td>234676</td>\n",
       "    </tr>\n",
       "    <tr>\n",
       "      <th>4</th>\n",
       "      <td>1</td>\n",
       "      <td>1</td>\n",
       "      <td>1</td>\n",
       "      <td>5</td>\n",
       "      <td>16021</td>\n",
       "      <td>301595</td>\n",
       "    </tr>\n",
       "    <tr>\n",
       "      <th>...</th>\n",
       "      <td>...</td>\n",
       "      <td>...</td>\n",
       "      <td>...</td>\n",
       "      <td>...</td>\n",
       "      <td>...</td>\n",
       "      <td>...</td>\n",
       "    </tr>\n",
       "    <tr>\n",
       "      <th>29995</th>\n",
       "      <td>1</td>\n",
       "      <td>40</td>\n",
       "      <td>12</td>\n",
       "      <td>58</td>\n",
       "      <td>13774</td>\n",
       "      <td>32606</td>\n",
       "    </tr>\n",
       "    <tr>\n",
       "      <th>29996</th>\n",
       "      <td>1</td>\n",
       "      <td>40</td>\n",
       "      <td>12</td>\n",
       "      <td>59</td>\n",
       "      <td>66768</td>\n",
       "      <td>388123</td>\n",
       "    </tr>\n",
       "    <tr>\n",
       "      <th>29997</th>\n",
       "      <td>1</td>\n",
       "      <td>40</td>\n",
       "      <td>12</td>\n",
       "      <td>60</td>\n",
       "      <td>53168</td>\n",
       "      <td>179070</td>\n",
       "    </tr>\n",
       "    <tr>\n",
       "      <th>29998</th>\n",
       "      <td>1</td>\n",
       "      <td>40</td>\n",
       "      <td>12</td>\n",
       "      <td>61</td>\n",
       "      <td>1944</td>\n",
       "      <td>13597</td>\n",
       "    </tr>\n",
       "    <tr>\n",
       "      <th>29999</th>\n",
       "      <td>1</td>\n",
       "      <td>40</td>\n",
       "      <td>12</td>\n",
       "      <td>62</td>\n",
       "      <td>5034</td>\n",
       "      <td>96027</td>\n",
       "    </tr>\n",
       "  </tbody>\n",
       "</table>\n",
       "<p>30000 rows × 6 columns</p>\n",
       "</div>"
      ],
      "text/plain": [
       "       SUBJECT  SESSION  RUN  TRIAL  73KID  COCOID\n",
       "0            1        1    1      1  46003  412922\n",
       "1            1        1    1      2  61883  474858\n",
       "2            1        1    1      3    829  320696\n",
       "3            1        1    1      4  67574  234676\n",
       "4            1        1    1      5  16021  301595\n",
       "...        ...      ...  ...    ...    ...     ...\n",
       "29995        1       40   12     58  13774   32606\n",
       "29996        1       40   12     59  66768  388123\n",
       "29997        1       40   12     60  53168  179070\n",
       "29998        1       40   12     61   1944   13597\n",
       "29999        1       40   12     62   5034   96027\n",
       "\n",
       "[30000 rows x 6 columns]"
      ]
     },
     "execution_count": 166,
     "metadata": {},
     "output_type": "execute_result"
    }
   ],
   "source": [
    "sub_cocoid = pd.DataFrame({\"COCOID\": sub_cocoID})\n",
    "sub_DF = pd.merge(sub_df, sub_cocoid, left_index=True, right_index=True)\n",
    "sub_DF\n",
    "#len(pd.unique(sub_DF['COCOID']))"
   ]
  },
  {
   "cell_type": "code",
   "execution_count": 19,
   "id": "8903fdd4-6e38-459d-a695-e0bd936b782b",
   "metadata": {},
   "outputs": [],
   "source": [
    "#read the labels of the cocoIDs and add column to the data frame"
   ]
  },
  {
   "cell_type": "code",
   "execution_count": 86,
   "id": "00440b52-f251-4bc9-a018-c28d96c6aa75",
   "metadata": {},
   "outputs": [
    {
     "data": {
      "text/plain": [
       "dict_keys(['info', 'licenses', 'images', 'annotations', 'categories'])"
      ]
     },
     "execution_count": 86,
     "metadata": {},
     "output_type": "execute_result"
    }
   ],
   "source": [
    "import urllib.request\n",
    "import zipfile\n",
    "import json\n",
    "urllib.request.urlretrieve('http://images.cocodataset.org/annotations/annotations_trainval2017.zip', 'coco_annotations_2017.zip')\n",
    "\n",
    "with zipfile.ZipFile('coco_annotations_2017.zip', 'r') as zip_ref:\n",
    "    zip_ref.extractall()\n",
    "\n",
    "with open('./annotations/instances_train2017.json') as json_data:\n",
    "  file_contents = json_data.read()\n",
    "\n",
    "data = json.loads(file_contents)\n",
    "data.keys()"
   ]
  },
  {
   "cell_type": "code",
   "execution_count": 170,
   "id": "dedd1ba8-0ec3-464a-b40f-e472b2e0f1f4",
   "metadata": {
    "tags": []
   },
   "outputs": [],
   "source": [
    "#urllib.request.urlretrieve('http://images.cocodataset.org/annotations/image_info_unlabeled2017.zip', 'image_info_unlabeled2017.zip')\n",
    "\n",
    "#with zipfile.ZipFile('image_info_unlabeled2017.zip', 'r') as zip_ref:\n",
    "#    zip_ref.extractall()\n",
    "\n",
    "#with open('./annotations/image_info_unlabeled2017.json') as json_data:\n",
    "#  file_contents = json_data.read()\n",
    "\n",
    "#data_unlab = json.loads(file_contents)\n",
    "#data_unlab.keys()"
   ]
  },
  {
   "cell_type": "code",
   "execution_count": 21,
   "id": "7802a0fa-cf17-4d55-b1a4-46f9dd3cc70c",
   "metadata": {
    "tags": []
   },
   "outputs": [],
   "source": [
    "annotations = data['annotations']\n",
    "categories = data['categories']"
   ]
  },
  {
   "cell_type": "code",
   "execution_count": 71,
   "id": "f1eefd88-82d4-4f02-a332-c71950e9fdf9",
   "metadata": {
    "tags": []
   },
   "outputs": [
    {
     "data": {
      "text/plain": [
       "9"
      ]
     },
     "execution_count": 71,
     "metadata": {},
     "output_type": "execute_result"
    }
   ],
   "source": [
    "ids_list = [data['annotations'][i]['id'] for i in range(len(data['annotations']))]\n",
    "coco_image_ids_list = [data['annotations'][i]['image_id'] for i in range(len(data['annotations']))]\n",
    "#[i for i, x in enumerate(np.array(coco_image_ids_list)==320696) if x]\n",
    "len(pd.unique(coco_image_ids_list))\n",
    "min(coco_image_ids_list)"
   ]
  },
  {
   "cell_type": "code",
   "execution_count": 73,
   "id": "05e14f66-1944-412e-adbd-59514bc3db94",
   "metadata": {
    "tags": []
   },
   "outputs": [],
   "source": [
    "#data['annotations']"
   ]
  },
  {
   "cell_type": "code",
   "execution_count": 81,
   "id": "81e4a254-9f00-4ff2-9a28-e5f42a01dd63",
   "metadata": {
    "tags": []
   },
   "outputs": [],
   "source": [
    "image_id_to_text = {data['categories'][i]['id'] : data['categories'][i]['name'] for i in range(80)}\n",
    "cat_id_to_text = {data['categories'][i]['id'] : data['categories'][i]['supercategory'] for i in range(80)}\n",
    "#cat_id_to_text"
   ]
  },
  {
   "cell_type": "code",
   "execution_count": 157,
   "id": "bcc8d66b-a266-4b60-92c0-e0a9046a6129",
   "metadata": {
    "tags": []
   },
   "outputs": [],
   "source": [
    "image_labels_dict_numeric = {image_id : [] for image_id in coco_image_ids_list}\n",
    "image_labels_dict_text = {image_id : [] for image_id in coco_image_ids_list}\n",
    "cat_labels_dict_numeric = {supercategory : [] for supercategory in coco_image_ids_list}\n",
    "cat_labels_dict_text = {supercategory : [] for supercategory in coco_image_ids_list}\n",
    "\n",
    "for item in data['annotations']:\n",
    "    image_labels_dict_numeric[item['image_id']].append(item['category_id'])\n",
    "    image_labels_dict_text[item['image_id']].append(image_id_to_text[item['category_id']])\n",
    "    cat_labels_dict_numeric[item['image_id']].append(item['category_id'])\n",
    "    cat_labels_dict_text[item['image_id']].append(cat_id_to_text[item['category_id']])\n",
    "    \n",
    "#cat_labels_dict_text"
   ]
  },
  {
   "cell_type": "code",
   "execution_count": 158,
   "id": "7e4bc21a-24ce-4bfa-9101-255d3c0c7d69",
   "metadata": {},
   "outputs": [],
   "source": [
    "for dictionary in [image_labels_dict_numeric, image_labels_dict_text]:\n",
    "    for key,value in dictionary.items():\n",
    "        value = list(set(value))\n",
    "        value.sort()\n",
    "        dictionary[key] = value"
   ]
  },
  {
   "cell_type": "code",
   "execution_count": 168,
   "id": "b9449cb6-557f-4bd3-8023-908e410aaf2a",
   "metadata": {
    "tags": []
   },
   "outputs": [],
   "source": [
    "for dictionary in [cat_labels_dict_numeric, cat_labels_dict_text]:\n",
    "    for key,value in dictionary.items():\n",
    "        value = list(set(value))\n",
    "        value.sort()\n",
    "        dictionary[key] = value\n",
    "        \n",
    "#len(cat_labels_dict_text)\n",
    "#cat_labels_dict_text"
   ]
  },
  {
   "cell_type": "code",
   "execution_count": 169,
   "id": "8dc3045a-7154-4bc6-bb99-d45633908f62",
   "metadata": {},
   "outputs": [],
   "source": [
    "#select the labels for the relevant cocoID\n",
    "sub_label = []\n",
    "sub_DF\n",
    "\n",
    "error = 0\n",
    "subcatlab = [None] * len(sub_DF[\"COCOID\"])\n",
    "\n",
    "for idx, trial in enumerate(sub_DF[\"COCOID\"]):\n",
    "    #print(trial,idx)\n",
    "    value_found = cat_labels_dict_text.get(trial)\n",
    "    if value_found == None:\n",
    "        error = error + 1\n",
    "    else:\n",
    "        subcatlab[idx] = cat_labels_dict_text[trial]\n",
    "    \n",
    "#subcatlab"
   ]
  },
  {
   "cell_type": "code",
   "execution_count": null,
   "id": "35d378a3-62f2-495f-9aea-3b2fdd4b8638",
   "metadata": {
    "tags": []
   },
   "outputs": [],
   "source": [
    "#Add the labels to the DF next to the cocoIDs"
   ]
  },
  {
   "cell_type": "code",
   "execution_count": 167,
   "id": "f7b37908-25ff-40d2-a879-300ddbbee473",
   "metadata": {
    "tags": []
   },
   "outputs": [
    {
     "data": {
      "text/html": [
       "<div>\n",
       "<style scoped>\n",
       "    .dataframe tbody tr th:only-of-type {\n",
       "        vertical-align: middle;\n",
       "    }\n",
       "\n",
       "    .dataframe tbody tr th {\n",
       "        vertical-align: top;\n",
       "    }\n",
       "\n",
       "    .dataframe thead th {\n",
       "        text-align: right;\n",
       "    }\n",
       "</style>\n",
       "<table border=\"1\" class=\"dataframe\">\n",
       "  <thead>\n",
       "    <tr style=\"text-align: right;\">\n",
       "      <th></th>\n",
       "      <th>SUBJECT</th>\n",
       "      <th>SESSION</th>\n",
       "      <th>RUN</th>\n",
       "      <th>TRIAL</th>\n",
       "      <th>73KID</th>\n",
       "      <th>COCOID</th>\n",
       "      <th>LABELS</th>\n",
       "    </tr>\n",
       "  </thead>\n",
       "  <tbody>\n",
       "    <tr>\n",
       "      <th>0</th>\n",
       "      <td>1</td>\n",
       "      <td>1</td>\n",
       "      <td>1</td>\n",
       "      <td>1</td>\n",
       "      <td>46003</td>\n",
       "      <td>412922</td>\n",
       "      <td>[animal]</td>\n",
       "    </tr>\n",
       "    <tr>\n",
       "      <th>1</th>\n",
       "      <td>1</td>\n",
       "      <td>1</td>\n",
       "      <td>1</td>\n",
       "      <td>2</td>\n",
       "      <td>61883</td>\n",
       "      <td>474858</td>\n",
       "      <td>[person, sports, vehicle]</td>\n",
       "    </tr>\n",
       "    <tr>\n",
       "      <th>2</th>\n",
       "      <td>1</td>\n",
       "      <td>1</td>\n",
       "      <td>1</td>\n",
       "      <td>3</td>\n",
       "      <td>829</td>\n",
       "      <td>320696</td>\n",
       "      <td>None</td>\n",
       "    </tr>\n",
       "    <tr>\n",
       "      <th>3</th>\n",
       "      <td>1</td>\n",
       "      <td>1</td>\n",
       "      <td>1</td>\n",
       "      <td>4</td>\n",
       "      <td>67574</td>\n",
       "      <td>234676</td>\n",
       "      <td>[person, sports]</td>\n",
       "    </tr>\n",
       "    <tr>\n",
       "      <th>4</th>\n",
       "      <td>1</td>\n",
       "      <td>1</td>\n",
       "      <td>1</td>\n",
       "      <td>5</td>\n",
       "      <td>16021</td>\n",
       "      <td>301595</td>\n",
       "      <td>[appliance, furniture]</td>\n",
       "    </tr>\n",
       "    <tr>\n",
       "      <th>...</th>\n",
       "      <td>...</td>\n",
       "      <td>...</td>\n",
       "      <td>...</td>\n",
       "      <td>...</td>\n",
       "      <td>...</td>\n",
       "      <td>...</td>\n",
       "      <td>...</td>\n",
       "    </tr>\n",
       "    <tr>\n",
       "      <th>29995</th>\n",
       "      <td>1</td>\n",
       "      <td>40</td>\n",
       "      <td>12</td>\n",
       "      <td>58</td>\n",
       "      <td>13774</td>\n",
       "      <td>32606</td>\n",
       "      <td>[accessory, person, vehicle]</td>\n",
       "    </tr>\n",
       "    <tr>\n",
       "      <th>29996</th>\n",
       "      <td>1</td>\n",
       "      <td>40</td>\n",
       "      <td>12</td>\n",
       "      <td>59</td>\n",
       "      <td>66768</td>\n",
       "      <td>388123</td>\n",
       "      <td>[appliance, person]</td>\n",
       "    </tr>\n",
       "    <tr>\n",
       "      <th>29997</th>\n",
       "      <td>1</td>\n",
       "      <td>40</td>\n",
       "      <td>12</td>\n",
       "      <td>60</td>\n",
       "      <td>53168</td>\n",
       "      <td>179070</td>\n",
       "      <td>[person, vehicle]</td>\n",
       "    </tr>\n",
       "    <tr>\n",
       "      <th>29998</th>\n",
       "      <td>1</td>\n",
       "      <td>40</td>\n",
       "      <td>12</td>\n",
       "      <td>61</td>\n",
       "      <td>1944</td>\n",
       "      <td>13597</td>\n",
       "      <td>None</td>\n",
       "    </tr>\n",
       "    <tr>\n",
       "      <th>29999</th>\n",
       "      <td>1</td>\n",
       "      <td>40</td>\n",
       "      <td>12</td>\n",
       "      <td>62</td>\n",
       "      <td>5034</td>\n",
       "      <td>96027</td>\n",
       "      <td>[animal, person]</td>\n",
       "    </tr>\n",
       "  </tbody>\n",
       "</table>\n",
       "<p>30000 rows × 7 columns</p>\n",
       "</div>"
      ],
      "text/plain": [
       "       SUBJECT  SESSION  RUN  TRIAL  73KID  COCOID  \\\n",
       "0            1        1    1      1  46003  412922   \n",
       "1            1        1    1      2  61883  474858   \n",
       "2            1        1    1      3    829  320696   \n",
       "3            1        1    1      4  67574  234676   \n",
       "4            1        1    1      5  16021  301595   \n",
       "...        ...      ...  ...    ...    ...     ...   \n",
       "29995        1       40   12     58  13774   32606   \n",
       "29996        1       40   12     59  66768  388123   \n",
       "29997        1       40   12     60  53168  179070   \n",
       "29998        1       40   12     61   1944   13597   \n",
       "29999        1       40   12     62   5034   96027   \n",
       "\n",
       "                             LABELS  \n",
       "0                          [animal]  \n",
       "1         [person, sports, vehicle]  \n",
       "2                              None  \n",
       "3                  [person, sports]  \n",
       "4            [appliance, furniture]  \n",
       "...                             ...  \n",
       "29995  [accessory, person, vehicle]  \n",
       "29996           [appliance, person]  \n",
       "29997             [person, vehicle]  \n",
       "29998                          None  \n",
       "29999              [animal, person]  \n",
       "\n",
       "[30000 rows x 7 columns]"
      ]
     },
     "execution_count": 167,
     "metadata": {},
     "output_type": "execute_result"
    }
   ],
   "source": [
    "sub_labels = pd.DataFrame({\"LABELS\": subcatlab})\n",
    "subj_DF = pd.merge(sub_DF, sub_labels, left_index=True, right_index=True)\n",
    "subj_DF"
   ]
  },
  {
   "cell_type": "code",
   "execution_count": null,
   "id": "af216faf-4b11-489b-bc0c-2dc8bda80bd5",
   "metadata": {},
   "outputs": [],
   "source": []
  }
 ],
 "metadata": {
  "kernelspec": {
   "display_name": "Python 3 (ipykernel)",
   "language": "python",
   "name": "python3"
  },
  "language_info": {
   "codemirror_mode": {
    "name": "ipython",
    "version": 3
   },
   "file_extension": ".py",
   "mimetype": "text/x-python",
   "name": "python",
   "nbconvert_exporter": "python",
   "pygments_lexer": "ipython3",
   "version": "3.10.11"
  }
 },
 "nbformat": 4,
 "nbformat_minor": 5
}
